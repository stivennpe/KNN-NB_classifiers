{
 "cells": [
  {
   "cell_type": "markdown",
   "metadata": {
    "id": "AszktE196RsZ"
   },
   "source": [
    "##1. Dataset"
   ]
  },
  {
   "cell_type": "code",
   "execution_count": 38,
   "metadata": {},
   "outputs": [],
   "source": [
    "name= [\"Mary\", \"Tony\", \"Mason\", \"James\", \"Scarlett\", \"Ken\", \"Evelyn\", \"Joe\", \"Hazel\", \"Lily\"]\n",
    "gender = [\"F\", \"M\", \"M\", \"M\", \"F\", \"M\", \"M\", \"M\", \"M\", \"F\"]\n",
    "age =[45,26, 30, 34,40,36,19,28,23,32]\n",
    "height =[5,5.1,5.6,5.9,4.8,5.8,5.3,5.8,5.5,5.6,5.5]\n",
    "weight = [77,47,55,59,72,60,40,60,45,58]"
   ]
  },
  {
   "cell_type": "markdown",
   "metadata": {
    "id": "V0cxk_Zw6x3v"
   },
   "source": [
    "## 2. Vectorization of data\n"
   ]
  },
  {
   "cell_type": "code",
   "execution_count": 39,
   "metadata": {},
   "outputs": [
    {
     "name": "stdout",
     "output_type": "stream",
     "text": [
      "[0 1 1 1 0 1 1 1 1 0]\n"
     ]
    }
   ],
   "source": [
    "from sklearn import preprocessing\n",
    "le_gender = preprocessing.LabelEncoder()\n",
    "gender_encoded = le_gender.fit_transform(gender) \n",
    "print(gender_encoded)"
   ]
  },
  {
   "cell_type": "code",
   "execution_count": 40,
   "metadata": {},
   "outputs": [
    {
     "name": "stdout",
     "output_type": "stream",
     "text": [
      "[(0, 45, 5), (1, 26, 5.1), (1, 30, 5.6), (1, 34, 5.9), (0, 40, 4.8), (1, 36, 5.8), (1, 19, 5.3), (1, 28, 5.8), (1, 23, 5.5), (0, 32, 5.6)]\n"
     ]
    }
   ],
   "source": [
    "features2 = list(zip(gender_encoded, age, height))\n",
    "print(features2)"
   ]
  },
  {
   "cell_type": "markdown",
   "metadata": {
    "id": "jLDeKn1T897o"
   },
   "source": [
    "## 3. Build a KNN Classifier"
   ]
  },
  {
   "cell_type": "code",
   "execution_count": 41,
   "metadata": {},
   "outputs": [
    {
     "data": {
      "text/plain": [
       "KNeighborsClassifier(metric='euclidean', n_neighbors=3)"
      ]
     },
     "execution_count": 41,
     "metadata": {},
     "output_type": "execute_result"
    }
   ],
   "source": [
    "from sklearn.neighbors import KNeighborsClassifier\n",
    "model2 = KNeighborsClassifier(n_neighbors=3, metric = 'euclidean')\n",
    "model2.fit(features2, weight)"
   ]
  },
  {
   "cell_type": "markdown",
   "metadata": {
    "id": "lZo8EJG_9rqR"
   },
   "source": [
    "## 4. Test/Prediction"
   ]
  },
  {
   "cell_type": "code",
   "execution_count": 49,
   "metadata": {
    "scrolled": true
   },
   "outputs": [
    {
     "name": "stdout",
     "output_type": "stream",
     "text": [
      "[59]\n",
      "['M']\n"
     ]
    }
   ],
   "source": [
    "result = model2.predict([[1, 38, 5.5]])\n",
    "print(result)\n",
    "print(list(le_gender.inverse_transform([1])))"
   ]
  }
 ],
 "metadata": {
  "colab": {
   "collapsed_sections": [],
   "name": "kNNClassifier.ipynb",
   "provenance": []
  },
  "kernelspec": {
   "display_name": "Python 3",
   "language": "python",
   "name": "python3"
  },
  "language_info": {
   "codemirror_mode": {
    "name": "ipython",
    "version": 3
   },
   "file_extension": ".py",
   "mimetype": "text/x-python",
   "name": "python",
   "nbconvert_exporter": "python",
   "pygments_lexer": "ipython3",
   "version": "3.8.8"
  }
 },
 "nbformat": 4,
 "nbformat_minor": 1
}
